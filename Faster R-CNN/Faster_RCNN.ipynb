{
  "cells": [
    {
      "cell_type": "code",
      "execution_count": 1,
      "metadata": {
        "id": "zW_oQc67CNHi"
      },
      "outputs": [],
      "source": [
        "####"
      ]
    },
    {
      "cell_type": "code",
      "execution_count": 2,
      "metadata": {
        "id": "bZLSvLFYCQlo"
      },
      "outputs": [],
      "source": [
        "import torch\n",
        "from torch import nn\n",
        "import numpy as np\n",
        "import matplotlib.pyplot as plt\n",
        "import pandas as pd\n",
        "import os\n",
        "from torchvision import transforms\n",
        "from torchvision.utils import make_grid\n",
        "import torchvision.transforms.functional as F\n",
        "from tqdm.notebook import tqdm\n",
        "from torchvision.ops import roi_pool"
      ]
    },
    {
      "cell_type": "code",
      "execution_count": 3,
      "metadata": {
        "id": "KYA4rxRFQI6G"
      },
      "outputs": [],
      "source": [
        "device = torch.device('cuda' if torch.cuda.is_available() else 'cpu')"
      ]
    },
    {
      "cell_type": "code",
      "execution_count": 4,
      "metadata": {
        "id": "kgSPjLuxBkxC"
      },
      "outputs": [],
      "source": [
        "def iou_width_height(boxes1, boxes2):\n",
        "\n",
        "    intersection = torch.min(boxes1[..., 0], boxes2[..., 0]) * torch.min(\n",
        "        boxes1[..., 1], boxes2[..., 1]\n",
        "    )\n",
        "    union = (\n",
        "        boxes1[..., 0] * boxes1[..., 1] + boxes2[..., 0] * boxes2[..., 1] - intersection\n",
        "    )\n",
        "    return intersection / union\n"
      ]
    },
    {
      "cell_type": "code",
      "execution_count": 5,
      "metadata": {
        "id": "VEYYe6Y1QKk9"
      },
      "outputs": [],
      "source": [
        "def show_tensor_images(image_tensor, num_images=2, size=(3 , 800 , 800)):\n",
        "    image_shifted = image_tensor\n",
        "    image_unflat = image_shifted.detach().cpu().view(-1, *size)\n",
        "    image_grid = make_grid(image_unflat[:num_images], nrow=5)\n",
        "    plt.imshow(image_grid.permute(1, 2, 0).squeeze())\n",
        "    plt.show()"
      ]
    },
    {
      "cell_type": "code",
      "execution_count": 6,
      "metadata": {
        "id": "2b668GSMQMMX"
      },
      "outputs": [],
      "source": [
        "def intersection_over_union(boxes_preds, boxes_labels, box_format=\"midpoint\"):\n",
        "\n",
        "    if box_format == \"midpoint\":\n",
        "        box1_x1 = boxes_preds[..., 0:1] - boxes_preds[..., 2:3] / 2\n",
        "        box1_y1 = boxes_preds[..., 1:2] - boxes_preds[..., 3:4] / 2\n",
        "        box1_x2 = boxes_preds[..., 0:1] + boxes_preds[..., 2:3] / 2\n",
        "        box1_y2 = boxes_preds[..., 1:2] + boxes_preds[..., 3:4] / 2\n",
        "        box2_x1 = boxes_labels[..., 0:1] - boxes_labels[..., 2:3] / 2\n",
        "        box2_y1 = boxes_labels[..., 1:2] - boxes_labels[..., 3:4] / 2\n",
        "        box2_x2 = boxes_labels[..., 0:1] + boxes_labels[..., 2:3] / 2\n",
        "        box2_y2 = boxes_labels[..., 1:2] + boxes_labels[..., 3:4] / 2\n",
        "\n",
        "    if box_format == \"corners\":\n",
        "        box1_x1 = boxes_preds[..., 0:1]\n",
        "        box1_y1 = boxes_preds[..., 1:2]\n",
        "        box1_x2 = boxes_preds[..., 2:3]\n",
        "        box1_y2 = boxes_preds[..., 3:4]\n",
        "        box2_x1 = boxes_labels[..., 0:1]\n",
        "        box2_y1 = boxes_labels[..., 1:2]\n",
        "        box2_x2 = boxes_labels[..., 2:3]\n",
        "        box2_y2 = boxes_labels[..., 3:4]\n",
        "\n",
        "    x1 = torch.max(box1_x1, box2_x1)\n",
        "    y1 = torch.max(box1_y1, box2_y1)\n",
        "    x2 = torch.min(box1_x2, box2_x2)\n",
        "    y2 = torch.min(box1_y2, box2_y2)\n",
        "\n",
        "    intersection = (x2 - x1).clamp(0) * (y2 - y1).clamp(0)\n",
        "    box1_area = abs((box1_x2 - box1_x1) * (box1_y2 - box1_y1))\n",
        "    box2_area = abs((box2_x2 - box2_x1) * (box2_y2 - box2_y1))\n",
        "\n",
        "    return intersection / (box1_area + box2_area - intersection + 1e-6)"
      ]
    },
    {
      "cell_type": "code",
      "execution_count": 7,
      "metadata": {
        "id": "QbozaJMWQTu5"
      },
      "outputs": [],
      "source": [
        "class Conv(nn.Module):\n",
        "    def __init__(self ,\n",
        "                 in_channels , \n",
        "                 out_channels , \n",
        "                 kernel_size = (3 , 3) , \n",
        "                 stride = (1 , 1) , \n",
        "                 padding = 1 , \n",
        "                 use_norm = True , \n",
        "                 use_activation = True , \n",
        "                 use_pool = False):\n",
        "        super(Conv , self).__init__()\n",
        "\n",
        "        self.conv1 = nn.Conv2d(in_channels ,\n",
        "                               out_channels ,\n",
        "                               kernel_size , \n",
        "                               stride , \n",
        "                               padding)\n",
        "        self.use_norm = use_norm\n",
        "        self.use_activation = use_activation\n",
        "        self.use_pool = use_pool\n",
        "\n",
        "        if self.use_norm:\n",
        "            self.norm = nn.BatchNorm2d(out_channels)\n",
        "        if self.use_activation:\n",
        "            self.activation = nn.ReLU()\n",
        "        if self.use_pool:\n",
        "            self.maxpool = nn.MaxPool2d(kernel_size = (2 , 2) , stride = (2 , 2))\n",
        "    \n",
        "    def forward(self , x):\n",
        "        x = self.conv1(x)\n",
        "        if self.use_norm:\n",
        "            x = self.norm(x)\n",
        "        if self.use_activation:\n",
        "            x = self.activation(x)\n",
        "        if self.use_pool:\n",
        "            x = self.maxpool(x)\n",
        "        return x"
      ]
    },
    {
      "cell_type": "code",
      "execution_count": 8,
      "metadata": {
        "id": "_COZ98NjQXNw"
      },
      "outputs": [],
      "source": [
        "\n",
        "class Linear(nn.Module):\n",
        "    def __init__(self ,  \n",
        "                 in_channels , \n",
        "                 out_channels , \n",
        "                 use_norm = False , \n",
        "                 use_activation = True):\n",
        "        super(Linear , self).__init__()\n",
        "\n",
        "        self.linear1 = nn.Linear(in_channels , \n",
        "                                 out_channels)\n",
        "        self.use_norm = use_norm\n",
        "        self.use_activation = use_activation\n",
        "\n",
        "        if self.use_norm:\n",
        "            self.norm = nn.BatchNorm1d(out_channels)\n",
        "        if self.use_activation:\n",
        "            self.activation = nn.ReLU()\n",
        "\n",
        "    def forward(self , x):\n",
        "        x = self.linear1(x)\n",
        "        if self.use_norm:\n",
        "            x = self.norm(x)\n",
        "        if self.use_activation:\n",
        "            x = self.activation(x)\n",
        "        return x"
      ]
    },
    {
      "cell_type": "code",
      "execution_count": 9,
      "metadata": {
        "id": "J_sTp5dXQZHm"
      },
      "outputs": [],
      "source": [
        "config = [\n",
        "          # [out_channels , kernel_size , stride , paddin]\n",
        "          [64 , 3 , 1 , 1] , \n",
        "          [128 , 3 , 1 , 1] , \n",
        "          \"M\" , \n",
        "          [128 , 3 , 1 , 1] , \n",
        "          [256 , 3 , 1 , 1] , \n",
        "          \"M\" , \n",
        "          [256 , 3 , 1 , 1] , \n",
        "          [512 , 3 , 1 , 1] , \n",
        "          \"M\" , \n",
        "          [512 , 3 , 1 , 1] ,\n",
        "          [512 , 3 , 1 , 1] ,\n",
        "          [512 , 3 , 1 , 1] ,\n",
        "          \"M\" , \n",
        "          [512 , 3 , 1 , 1] ,\n",
        "          [512 , 3 , 1 , 1] ,\n",
        "          [512 , 3 , 1 , 1] ,\n",
        "          #\"M\" , \n",
        "          #4096 \n",
        "]"
      ]
    },
    {
      "cell_type": "code",
      "execution_count": 10,
      "metadata": {
        "id": "YLAxjaTIQbLP"
      },
      "outputs": [],
      "source": [
        "\n",
        "class VGG(nn.Module):\n",
        "    def __init__(self , \n",
        "                 in_channels = 3 , \n",
        "                 config = config):\n",
        "        super(VGG , self).__init__()\n",
        "\n",
        "        self.layers = nn.ModuleList()\n",
        "\n",
        "        for layer in config:\n",
        "            if isinstance(layer , list):\n",
        "                out_channels , kernel_size , stride , padding = layer\n",
        "                self.layers.append(Conv(\n",
        "                    in_channels , \n",
        "                    out_channels , \n",
        "                    kernel_size , \n",
        "                    stride , \n",
        "                    padding\n",
        "                ))\n",
        "                in_channels = out_channels\n",
        "            elif isinstance(layer , str):\n",
        "                self.layers.append(nn.MaxPool2d(kernel_size = (2 , 2) , stride = (2 , 2)))\n",
        "            else:\n",
        "                if layer == 4096:\n",
        "                    self.layers.append(nn.Flatten())\n",
        "                    self.layers.append(Linear(25088 , 4096))\n",
        "                elif layer == 1000:\n",
        "                    self.layers.append(Linear(4096 , 1000 , use_activation = False))\n",
        "                    self.layers.append(nn.Softmax())\n",
        "    def forward(self , x):\n",
        "        for layer in self.layers:\n",
        "            x = layer(x)\n",
        "        return x"
      ]
    },
    {
      "cell_type": "code",
      "execution_count": null,
      "metadata": {
        "id": "d07anpwtQdIH"
      },
      "outputs": [],
      "source": [
        "x = torch.randn(2 , 3 , 800 , 800).to(device)\n",
        "vgg = VGG().to(device)\n",
        "z = vgg(x)\n",
        "z.shape"
      ]
    },
    {
      "cell_type": "code",
      "execution_count": 12,
      "metadata": {
        "id": "CZ1S1eghwkfS"
      },
      "outputs": [],
      "source": [
        "class RPN(nn.Module):\n",
        "    def __init__(self , \n",
        "                 in_channels ,\n",
        "                 num_anchors = 5 , \n",
        "                 feature_map_size = 50 , \n",
        "                 num_classes = 2):\n",
        "        super(RPN , self).__init__()\n",
        "\n",
        "        self.num_anchors = num_anchors\n",
        "        self.feature_map_size = feature_map_size\n",
        "\n",
        "        out_channels_cls = num_classes * self.feature_map_size ** 2  * num_anchors\n",
        "        out_channels_bbox = 5 * self.num_anchors * self.feature_map_size ** 2 \n",
        "        hidden_dim = in_channels // 2\n",
        "        self.conv1 = Conv(in_channels , hidden_dim , kernel_size=(2 , 2) , stride=(2 , 2) , padding=0)\n",
        "        self.conv2 = Conv(hidden_dim , hidden_dim //2 , kernel_size=(2 , 2) , stride=(2 , 2) , padding=0)\n",
        "        self.conv3 = Conv(hidden_dim // 2 , hidden_dim , kernel_size=(2 , 2) , stride=(2 , 2) , padding=0)\n",
        "        self.conv4 = Conv(hidden_dim , in_channels , kernel_size=(2 , 2) , stride=(2 , 2) , padding=0)\n",
        "\n",
        "        self.flatten = nn.Flatten()\n",
        "\n",
        "        self.linear1 = Linear(4608 , 2048)\n",
        "        self.linear2 = Linear(2048 , 1024)\n",
        "\n",
        "        self.linear_cls = Linear(1024 , out_channels_cls)\n",
        "        self.linear_bbox = Linear(1024 , out_channels_bbox)\n",
        "    def forward(self , x):\n",
        "        x = self.conv1(x)\n",
        "        x = self.conv2(x)\n",
        "        x = self.conv3(x)\n",
        "        x = self.conv4(x)\n",
        "        x = self.flatten(x)\n",
        "        x = self.linear1(x)\n",
        "        x = self.linear2(x)\n",
        "        cls = self.linear_cls(x)\n",
        "        bbox = self.linear_bbox(x)\n",
        "        return cls.view(cls.shape[0] , 2 , self.feature_map_size , self.feature_map_size , 5) , bbox.view(bbox.shape[0] , self.num_anchors   , self.feature_map_size , self.feature_map_size , 5)"
      ]
    },
    {
      "cell_type": "code",
      "execution_count": null,
      "metadata": {
        "id": "MHXrwrQP2KJ0"
      },
      "outputs": [],
      "source": [
        "x = torch.randn(2 , 512 , 50 , 50).to(device)\n",
        "rpn = RPN(512).to(device)\n",
        "cls , bbox = rpn(x)\n",
        "cls.shape , bbox.shape"
      ]
    },
    {
      "cell_type": "code",
      "execution_count": 14,
      "metadata": {
        "id": "AHc233qO2Qzy"
      },
      "outputs": [],
      "source": [
        "class Classifier(nn.Module):\n",
        "    def __init__(self , \n",
        "                 in_channels , \n",
        "                 out_channels_cls = 20 , \n",
        "                 out_channels_bbox = 4 , \n",
        "                 num_anchors = 5):\n",
        "        super(Classifier , self).__init__()\n",
        "\n",
        "        out_channels_bbox = out_channels_bbox * num_anchors * 50 * 50\n",
        "        out_channels_cls = out_channels_cls * num_anchors * 50 * 50\n",
        "        self.conv1 = Conv(in_channels , in_channels // 2 , use_pool=True)\n",
        "        self.conv2 = Conv(in_channels //2 , in_channels // 4 , use_pool = True)\n",
        "        self.conv3 = Conv(in_channels // 4 , in_channels // 8 , use_pool = False)\n",
        "        self.conv4 = Conv(in_channels // 8 , in_channels // 16 , use_pool=False)\n",
        "\n",
        "        self.flatten = nn.Flatten()\n",
        "        self.linear1 = Linear(32 , 256)\n",
        "        self.linear2 = Linear(256 , 128)\n",
        "\n",
        "        self.linear_cls = Linear(128 , out_channels_cls)\n",
        "        self.linear_bbox = Linear(128 , out_channels_bbox)\n",
        "    def forward(self , x):\n",
        "        x = self.conv1(x)\n",
        "        x = self.conv2(x)\n",
        "        x = self.conv3(x)\n",
        "        x = self.conv4(x)\n",
        "        x = self.flatten(x)\n",
        "        #print(x.shape)\n",
        "        x = self.linear1(x)\n",
        "        x = self.linear2(x)\n",
        "        cls = self.linear_cls(x)\n",
        "        bbox = self.linear_bbox(x)\n",
        "        #print(cls.shape , bbox.shape)\n",
        "        return cls.view(x.shape[0] ,  5 , 50 , 50 , 20) , bbox.view(x.shape[0] ,  5 , 50 , 50 , 4)"
      ]
    },
    {
      "cell_type": "code",
      "execution_count": null,
      "metadata": {
        "id": "ZMFcj_V98uOL"
      },
      "outputs": [],
      "source": [
        "x = torch.randn(2 , 512 , 5 , 5).to(device)\n",
        "cls = Classifier(512).to(device)\n",
        "cls_ , bbox = cls(x)\n",
        "cls_.shape , bbox.shape"
      ]
    },
    {
      "cell_type": "code",
      "execution_count": 16,
      "metadata": {
        "id": "VBjKT8RX82ta"
      },
      "outputs": [],
      "source": [
        "class Dataset_(torch.utils.data.Dataset):\r\n",
        "    def __init__(self ,\r\n",
        "                 img_dir , \r\n",
        "                 label_dir , \r\n",
        "                 csv_file , \r\n",
        "                 anchors , \r\n",
        "                 transforms = None , \r\n",
        "                 S = 50 , \r\n",
        "                 B = 5 , \r\n",
        "                 C = 20):\r\n",
        "        super(Dataset_ , self).__init__()\r\n",
        "\r\n",
        "        self.img_dir = img_dir\r\n",
        "        self.label_dir = label_dir\r\n",
        "        self.df = pd.read_csv(csv_file)\r\n",
        "        self.anchors = torch.from_numpy(np.array(anchors))\r\n",
        "        #print(self.anchors)\r\n",
        "        self.transforms = transforms\r\n",
        "        self.number_of_anchors_per_cell = 5\r\n",
        "        self.ignore_iou_thresh = 0.5\r\n",
        "        self.C = C\r\n",
        "        self.S = S\r\n",
        "        self.B = B\r\n",
        "\r\n",
        "    def __len__(self):\r\n",
        "        return len(self.df)\r\n",
        "    \r\n",
        "    def __getitem__(self , idx):\r\n",
        "        label_path = os.path.join(self.label_dir , self.df.iloc[idx , 1])\r\n",
        "        boxes = []\r\n",
        "\r\n",
        "        with open(label_path) as f:\r\n",
        "            for label in f.readlines():\r\n",
        "                class_label , x , y , width , height = [\r\n",
        "                    float(x) if float(x) != int(float(x)) else int(x)\r\n",
        "                    for x in label.replace(\"\\n\", \"\").split()\r\n",
        "                ]\r\n",
        "                boxes.append([ x , y , width , height , class_label])\r\n",
        "\r\n",
        "        boxes = torch.tensor(boxes) \r\n",
        "\r\n",
        "        img_path = os.path.join(self.img_dir , self.df.iloc[idx , 0])\r\n",
        "        image = np.asarray(plt.imread(img_path))\r\n",
        "        image = torch.from_numpy(image).permute(2 , 0 , 1)\r\n",
        "        if self.transforms:\r\n",
        "            image = self.transforms(image)\r\n",
        "\r\n",
        "        targets = torch.zeros((self.B , self.S , self.S , 5))\r\n",
        "        for box in boxes:\r\n",
        "            iou_anchors = iou_width_height(box[2:4] , self.anchors)\r\n",
        "            anchors_indices = iou_anchors.argsort(descending=True, dim=0)        \r\n",
        "            x , y , width , height , class_label = box\r\n",
        "            has_anchor = [False for _ in range(self.B)]\r\n",
        "            for anchor_idx in anchors_indices:\r\n",
        "                anchor_on_scale = anchor_idx % self.B\r\n",
        "                S = self.S\r\n",
        "                i , j = int(S * y) , int(S * x)\r\n",
        "                anchor_taken = targets[anchor_on_scale , i , j , 0]\r\n",
        "                if not anchor_taken and not has_anchor[anchor_on_scale]:\r\n",
        "                    targets[anchor_on_scale , i , j , 0] = 1\r\n",
        "                    x_cell , y_cell = S * x - j , S * y - i\r\n",
        "                    width_cell , height_cell = (\r\n",
        "                        width * S , \r\n",
        "                        height * S\r\n",
        "                    )\r\n",
        "                    box_coordinate = torch.tensor([x_cell , y_cell , width_cell , height_cell])\r\n",
        "                    targets[anchor_on_scale , i , j , :4] = box_coordinate\r\n",
        "                    targets[anchor_on_scale , i , j , 4] = int(class_label)\r\n",
        "                    has_anchor[anchor_on_scale] = True\r\n",
        "\r\n",
        "                elif not anchor_taken and iou_anchors[anchor_idx] > self.ignore_iou_thresh:\r\n",
        "                    targets[anchor_on_scale , i , j , 0] = -1\r\n",
        "        return image , targets "
      ]
    },
    {
      "cell_type": "code",
      "execution_count": 17,
      "metadata": {
        "id": "DsVisPVe_Xaf"
      },
      "outputs": [],
      "source": [
        "anchors = [[ 0.28, 0.22], [  0.38, 0.48], [ 0.9, 0.78], [ 0.07, 0.15], [ 0.15, 0.11]]\n",
        "transform = transforms.Compose([\n",
        "                                transforms.ToPILImage() , \n",
        "                                transforms.Resize((800 , 800)) , \n",
        "                                transforms.ToTensor()\n",
        "])\n",
        "dataset = Dataset_(\n",
        "    img_dir = '/content/drive/MyDrive/Yolo_Dataset/images/' , \n",
        "    label_dir = '/content/drive/MyDrive/Yolo_Dataset/labels' , \n",
        "    csv_file = '/content/drive/MyDrive/Yolo_Dataset/train.csv' , \n",
        "    anchors = anchors , \n",
        "    transforms = transform\n",
        ")\n",
        "dataloader = torch.utils.data.DataLoader(dataset , batch_size = 1 , shuffle=True)"
      ]
    },
    {
      "cell_type": "code",
      "execution_count": null,
      "metadata": {
        "id": "n3DCVt39_cs9"
      },
      "outputs": [],
      "source": [
        "for x , y  in dataloader:\n",
        "    show_tensor_images(x)\n",
        "    print(y.shape)\n",
        "    break"
      ]
    },
    {
      "cell_type": "code",
      "execution_count": 19,
      "metadata": {
        "id": "rD_VH49iX1l8"
      },
      "outputs": [],
      "source": [
        "class ROI(nn.Module):\n",
        "    def __init__(self , \n",
        "                 output_len = 10):\n",
        "        super(ROI , self).__init__()\n",
        "\n",
        "        self.crop_size = 5\n",
        "        self.classifier = Classifier(512)\n",
        "        self.output_len = output_len\n",
        "\n",
        "    def forward(self , img , bbox_input , target_boxes):\n",
        "        '''\n",
        "            bbox :- [N x 5 x 50 x 50 x 5]\n",
        "        '''\n",
        "        roi_imgs = []\n",
        "        ious = []\n",
        "        roi_final_imgs = []\n",
        "        for i in range(bbox_input.shape[1]):\n",
        "            for j in range(bbox_input.shape[2]):\n",
        "                for k in range(bbox_input.shape[3]):\n",
        "                    #print(bbox_input[: , i , j , k , :].shape)\n",
        "                    croped_img = roi_pool(img , bbox_input[: , i , j , k , :] , output_size=(self.crop_size , self.crop_size))\n",
        "                    roi_imgs.append(croped_img)\n",
        "                    iou = intersection_over_union(bbox_input[: , i , j , k , :] , target_boxes[: , i , j , k , :])\n",
        "                    ious.append(iou)\n",
        "        roi_imgs = torch.stack(roi_imgs).permute(1 , 0 , 2 , 3 , 4)\n",
        "        ious = torch.stack(ious).permute(1 , 0 , 2)\n",
        "        anchors_indices = ious.argsort(descending=True, dim=1)\n",
        "        \n",
        "        for batch in range(roi_imgs.shape[0]):\n",
        "            for filter in range(roi_imgs.shape[1]):\n",
        "                if filter == self.output_len:\n",
        "                    break\n",
        "                anchor = anchors_indices[batch , filter , :]\n",
        "                roi_img = roi_imgs[batch , anchor , : , : , :]\n",
        "                roi_final_imgs.append(roi_img)\n",
        "        roi_final_imgs = torch.stack(roi_final_imgs)\n",
        "        return roi_final_imgs.squeeze(1)"
      ]
    },
    {
      "cell_type": "code",
      "execution_count": null,
      "metadata": {
        "id": "AdJhblqsZHPT"
      },
      "outputs": [],
      "source": [
        "roi = ROI().to(device)\n",
        "img = torch.randn(2 , 512 , 50 , 50).to(device)\n",
        "bbox = torch.randn(2 , 5 , 50 , 50 , 5).to(device)\n",
        "target_boxes = torch.randn(2 , 5 , 50 , 50 , 5).to(device)\n",
        "roi_imgs = roi(img , bbox , target_boxes)\n",
        "roi_imgs.shape"
      ]
    },
    {
      "cell_type": "code",
      "execution_count": 21,
      "metadata": {
        "id": "U9Y7_4oyUzah"
      },
      "outputs": [],
      "source": [
        "class FasterRCNN(nn.Module):\n",
        "    def __init__(self , \n",
        "                 in_channels = 3):\n",
        "        super(FasterRCNN , self).__init__()\n",
        "\n",
        "        in_channels_vgg = 512\n",
        "        self.vgg = VGG()\n",
        "        self.rpn = RPN(in_channels_vgg)\n",
        "        self.classifier = Classifier(512)\n",
        "        self.roi = ROI()\n",
        "\n",
        "    def forward(self , x , target_boxes):\n",
        "        x = self.vgg(x)\n",
        "        cls , bbox = self.rpn(x)\n",
        "        croped_imgs = self.roi(x , bbox , target_boxes)\n",
        "        #print(croped_imgs.shape)\n",
        "        cls , bbox = self.classifier(croped_imgs)\n",
        "        return cls , bbox"
      ]
    },
    {
      "cell_type": "code",
      "execution_count": null,
      "metadata": {
        "id": "0Tx1N4-rVabL"
      },
      "outputs": [],
      "source": [
        "x = torch.randn(2 , 3 , 800 , 800).to(device)\n",
        "target_boxes = torch.randn(2 , 5 , 50 , 50 , 5).to(device)\n",
        "faster_rcnn = FasterRCNN().to(device)\n",
        "cls , bbox = faster_rcnn(x , target_boxes)\n",
        "cls.shape , bbox.shape"
      ]
    },
    {
      "cell_type": "code",
      "execution_count": 23,
      "metadata": {
        "id": "R4s0Hmv3_h7T"
      },
      "outputs": [],
      "source": [
        "adv_criterion = nn.BCEWithLogitsLoss()\n",
        "recon_criterion = nn.L1Loss()\n",
        "ce_criterion = nn.CrossEntropyLoss()\n",
        "lambda_recon = 200\n",
        "betas = (0.5 , 0.999)\n",
        "\n",
        "\n",
        "n_epochs = 200\n",
        "display_steps = 1\n",
        "lr = 0.002"
      ]
    },
    {
      "cell_type": "code",
      "execution_count": 24,
      "metadata": {
        "id": "P7q9GKPyd2qD"
      },
      "outputs": [],
      "source": [
        "faster_rcnn = FasterRCNN().to(device)\n",
        "opt = torch.optim.Adam(faster_rcnn.parameters() , lr=lr , betas=betas)"
      ]
    },
    {
      "cell_type": "code",
      "execution_count": 25,
      "metadata": {
        "id": "He4Xu2HVbMMM"
      },
      "outputs": [],
      "source": [
        "def train():\n",
        "    mean_rcnn_loss = 0\n",
        "    cur_step = 0\n",
        "    for epoch in range(n_epochs):\n",
        "        for img , bbox  in dataloader:\n",
        "            #print(img.shape , bbox.shape)\n",
        "            img , bbox  = img.to(device) , bbox.to(device) \n",
        "\n",
        "            opt.zero_grad()\n",
        "            cls_ , bbox_ = faster_rcnn(img , bbox)\n",
        "            #print(cls.shape , bbox.shape)\n",
        "            bbox_loss = recon_criterion(bbox_ , bbox[...,:4])\n",
        "            cls_loss = recon_criterion(cls_ , bbox[...,4:5])\n",
        "            loss = (bbox_loss + cls_loss) / 2\n",
        "            loss.backward()\n",
        "            opt.step()\n",
        "\n",
        "            mean_rcnn_loss += loss.item() / display_steps\n",
        "            if cur_step % display_steps == 0:\n",
        "                print(f'Epoch {epoch} , Step {cur_step} , Mean Faster RCNN Loss {mean_rcnn_loss}')\n",
        "            cur_step +=1\n",
        "        mean_rcnn_loss = 0"
      ]
    },
    {
      "cell_type": "code",
      "execution_count": null,
      "metadata": {
        "id": "zNNrp8albnwN"
      },
      "outputs": [],
      "source": [
        "train()"
      ]
    },
    {
      "cell_type": "code",
      "execution_count": null,
      "metadata": {
        "id": "0WtV0JT31iNN"
      },
      "outputs": [],
      "source": []
    }
  ],
  "metadata": {
    "colab": {
      "collapsed_sections": [],
      "name": "Faster_RCNN.ipynb",
      "provenance": []
    },
    "kernelspec": {
      "display_name": "Python 3",
      "name": "python3"
    },
    "language_info": {
      "name": "python"
    }
  },
  "nbformat": 4,
  "nbformat_minor": 0
}